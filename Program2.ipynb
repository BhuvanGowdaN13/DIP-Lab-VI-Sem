{
 "cells": [
  {
   "cell_type": "markdown",
   "metadata": {},
   "source": [
    "Write a program to show rotation, scaling, and translation of an image.\n"
   ]
  },
  {
   "cell_type": "code",
   "execution_count": 2,
   "metadata": {},
   "outputs": [],
   "source": [
    "import cv2\n",
    "import numpy as np"
   ]
  },
  {
   "cell_type": "code",
   "execution_count": 3,
   "metadata": {},
   "outputs": [],
   "source": [
    "img=cv2.imread(r\"C:\\Users\\bhuva\\Pictures\\Saved Pictures\\Bhuvan pics\\FB_IMG_14592257247422082.jpg\")"
   ]
  },
  {
   "cell_type": "code",
   "execution_count": 4,
   "metadata": {},
   "outputs": [],
   "source": [
    "# Define rotation angle, scaling factor, and translation offsets\n",
    "angle =60\n",
    "scale=1.5\n",
    "tx,ty=50,-30\n",
    "\n",
    "# Get the image shape\n",
    "h,w=img.shape[:2]"
   ]
  },
  {
   "cell_type": "code",
   "execution_count": 5,
   "metadata": {},
   "outputs": [],
   "source": [
    "# Define the rotation matrix\n",
    "m_rotate=cv2.getRotationMatrix2D((w//2,h//2),angle,scale)\n",
    "# Define the translation matrix\n",
    "m_tanslate=np.float32([[1,0,tx],[0,1,ty]])"
   ]
  },
  {
   "cell_type": "code",
   "execution_count": 6,
   "metadata": {},
   "outputs": [],
   "source": [
    "# Apply the rotation and translation\n",
    "\n",
    "rotate=cv2.warpAffine(img,m_rotate,(w,h))\n",
    "\n",
    "translate=cv2.warpAffine(img,m_tanslate,(w,h))"
   ]
  },
  {
   "cell_type": "code",
   "execution_count": 7,
   "metadata": {},
   "outputs": [],
   "source": [
    "cv2.imshow(\"original\",img)\n",
    "cv2.imshow(\"Rotated\",rotate)\n",
    "cv2.imshow(\"Translated\",translate)"
   ]
  },
  {
   "cell_type": "code",
   "execution_count": 8,
   "metadata": {},
   "outputs": [],
   "source": [
    "cv2.waitKey(0)\n",
    "cv2.destroyAllWindows()"
   ]
  }
 ],
 "metadata": {
  "kernelspec": {
   "display_name": "base",
   "language": "python",
   "name": "python3"
  },
  "language_info": {
   "codemirror_mode": {
    "name": "ipython",
    "version": 3
   },
   "file_extension": ".py",
   "mimetype": "text/x-python",
   "name": "python",
   "nbconvert_exporter": "python",
   "pygments_lexer": "ipython3",
   "version": "3.8.8"
  },
  "orig_nbformat": 4
 },
 "nbformat": 4,
 "nbformat_minor": 2
}
