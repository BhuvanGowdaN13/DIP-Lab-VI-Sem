{
 "cells": [
  {
   "cell_type": "markdown",
   "metadata": {},
   "source": [
    "Read an image and extract and display low-level features such as edges, textures \n",
    "using filtering techniques."
   ]
  },
  {
   "cell_type": "code",
   "execution_count": 8,
   "metadata": {},
   "outputs": [],
   "source": [
    "import cv2"
   ]
  },
  {
   "cell_type": "code",
   "execution_count": 9,
   "metadata": {},
   "outputs": [],
   "source": [
    "img=cv2.imread(r\"C:\\Users\\bhuva\\Pictures\\Saved Pictures\\Bhuvan pics\\FB_IMG_14592256109051212.jpg\",cv2.IMREAD_GRAYSCALE)"
   ]
  },
  {
   "cell_type": "code",
   "execution_count": 10,
   "metadata": {},
   "outputs": [],
   "source": [
    "# Apply Gaussian blur to the grayscale image\n",
    "blurred=cv2.GaussianBlur(img,(5,5),0)\n",
    "# Apply Canny edge detection to the blurred image\n",
    "edges=cv2.Canny(blurred,100,200)\n",
    "# Apply Laplacian edge detection to the blurred image\n",
    "laplacian=cv2.Laplacian(blurred,cv2.CV_64F)"
   ]
  },
  {
   "cell_type": "code",
   "execution_count": 11,
   "metadata": {},
   "outputs": [],
   "source": [
    "# Apply Gabor filter to the grayscale image\n",
    "kernel=cv2.getGaborKernel((10,10),3,0,10,0.5,0,ktype=cv2.CV_32F)\n",
    "gabor=cv2.filter2D(img,cv2.CV_8UC3,kernel)"
   ]
  },
  {
   "cell_type": "code",
   "execution_count": 12,
   "metadata": {},
   "outputs": [],
   "source": [
    "cv2.imshow('original',img)\n",
    "cv2.imshow('canny',edges)\n",
    "cv2.imshow('laplacian',laplacian)\n",
    "cv2.imshow('gabor',gabor)\n",
    "cv2.waitKey(0)\n",
    "cv2.destroyAllWindows()"
   ]
  }
 ],
 "metadata": {
  "kernelspec": {
   "display_name": "base",
   "language": "python",
   "name": "python3"
  },
  "language_info": {
   "codemirror_mode": {
    "name": "ipython",
    "version": 3
   },
   "file_extension": ".py",
   "mimetype": "text/x-python",
   "name": "python",
   "nbconvert_exporter": "python",
   "pygments_lexer": "ipython3",
   "version": "3.8.8"
  },
  "orig_nbformat": 4
 },
 "nbformat": 4,
 "nbformat_minor": 2
}
