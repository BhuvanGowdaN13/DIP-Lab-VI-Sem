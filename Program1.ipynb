{
 "cells": [
  {
   "cell_type": "markdown",
   "metadata": {},
   "source": [
    "Write a Program to read a digital image. Split and display image into 4 quadrants, up, \n",
    "down, right and left\n"
   ]
  },
  {
   "cell_type": "code",
   "execution_count": 1,
   "metadata": {},
   "outputs": [],
   "source": [
    "import cv2"
   ]
  },
  {
   "cell_type": "code",
   "execution_count": 13,
   "metadata": {},
   "outputs": [],
   "source": [
    "img=cv2.imread(r\"C:\\Users\\bhuva\\Downloads\\ironman.jpg\")\n"
   ]
  },
  {
   "cell_type": "code",
   "execution_count": 17,
   "metadata": {},
   "outputs": [],
   "source": [
    "# Get the image dimensions\n",
    "height,width=img.shape[:2]\n",
    "half_height=height//2\n",
    "half_width=width//2"
   ]
  },
  {
   "cell_type": "code",
   "execution_count": 15,
   "metadata": {},
   "outputs": [],
   "source": [
    "# Split the image into four quadrants\n",
    "top_left=img[0:half_height,0:half_width]\n",
    "top_right=img[0:half_height,half_width:width]\n",
    "bottom_left=img[half_height:height,0:half_width]\n",
    "bottom_right=img[half_height:height,half_width:width]"
   ]
  },
  {
   "cell_type": "code",
   "execution_count": 16,
   "metadata": {},
   "outputs": [],
   "source": [
    "cv2.imshow('Top left',top_left)\n",
    "cv2.imshow('Top Right',top_right)\n",
    "cv2.imshow('Btm Left',bottom_left)\n",
    "cv2.imshow('Btm Right',bottom_right)\n",
    "cv2.waitKey(0)\n",
    "cv2.destroyAllWindows()"
   ]
  }
 ],
 "metadata": {
  "kernelspec": {
   "display_name": "Python 3",
   "language": "python",
   "name": "python3"
  },
  "language_info": {
   "codemirror_mode": {
    "name": "ipython",
    "version": 3
   },
   "file_extension": ".py",
   "mimetype": "text/x-python",
   "name": "python",
   "nbconvert_exporter": "python",
   "pygments_lexer": "ipython3",
   "version": "3.8.8"
  },
  "orig_nbformat": 4
 },
 "nbformat": 4,
 "nbformat_minor": 2
}
